{
 "cells": [
  {
   "cell_type": "code",
   "execution_count": 387,
   "id": "6d937629-e1fc-4d68-90b9-aaccdd2259bb",
   "metadata": {},
   "outputs": [],
   "source": [
    "import pandas"
   ]
  },
  {
   "cell_type": "code",
   "execution_count": 388,
   "id": "f6c102a2-6a8b-4ffa-b4d4-2069efcc4875",
   "metadata": {},
   "outputs": [],
   "source": [
    "col = [0,1,2]\n",
    "col2 = [0,1]\n",
    "header = ['MovieID', 'UserID', 'Rating']\n",
    "header2 = ['MovieID', 'Title']\n",
    "# following the description i needed to reformat the file into something i was familiar with (taking data science right now)\n",
    "ratings = pandas.read_csv('netflix/ratings.txt', usecols=col, names=header)\n",
    "titles = pandas.read_csv('netflix/titles.txt', usecols=col2, names=header2)\n",
    "# looking online i saw i could use merge to combine the two files\n",
    "ratings_titles = pandas.merge(ratings, titles)\n",
    "# After some testing realize i need to pivot the table\n",
    "piv_ratings_titles2 = ratings_titles.pivot_table(index=['UserID'], columns=['Title'], values='Rating')\n",
    "df2 = piv_ratings_titles2"
   ]
  },
  {
   "cell_type": "markdown",
   "id": "60ce7ffc-e64f-4ce9-bf18-d995ef54d30b",
   "metadata": {},
   "source": [
    "Started watching a video on Collborative Filtering will link it"
   ]
  },
  {
   "cell_type": "code",
   "execution_count": 306,
   "id": "53c5eef7-6e5b-47e3-9d80-a43f5418a767",
   "metadata": {},
   "outputs": [],
   "source": [
    "item_similarity_df = df2.corr(method='pearson')"
   ]
  },
  {
   "cell_type": "code",
   "execution_count": 383,
   "id": "015ca6c3-f42d-49dd-ba9f-ad9a37b48ec8",
   "metadata": {},
   "outputs": [],
   "source": [
    "def get_similar_movies(UserID, MovieID):\n",
    "    UID = ratings_titles[ratings_titles['UserID'] == UserID]\n",
    "    if not UID.empty:\n",
    "        MID = UID[UID['MovieID'] == MovieID]\n",
    "        if not MID.empty:\n",
    "            R = MID.Rating\n",
    "            index = MID[MID['MovieID'] == MovieID].index[0] # needed to grab index to correctly input the row number grabing location\n",
    "            Rate = R.loc[index] # grab individual rating to work in the code below\n",
    "            T = MID['Title']\n",
    "            Title = T.loc[index] # same as Rate\n",
    "            similar_movies = pandas.DataFrame()\n",
    "            similar_score = item_similarity_df[Title]*(Rate-2.5) # this part was shown in the video \n",
    "            similar_score = similar_score.sort_values(ascending=False)\n",
    "            return similar_score\n",
    "        else:\n",
    "            print(\"no rating to predict what movies to recommend\") # not sure about what to display when inputing params that don't exist"
   ]
  },
  {
   "cell_type": "code",
   "execution_count": 386,
   "id": "8b44489c-1fb5-427c-98d0-601e9b993722",
   "metadata": {},
   "outputs": [
    {
     "data": {
      "text/plain": [
       "Title\n",
       "2002 Olympic Figure Skating Exhibition              -0.283473\n",
       "After School Specials: 1976-1977                    -0.375000\n",
       "Bridge of Dragons                                   -0.612372\n",
       "Brady Bunch Home Movies                             -0.838525\n",
       "Paul Simon: You're the One: In Concert from Paris   -0.915255\n",
       "Wild Zero                                           -1.113182\n",
       "Alien Quadrilogy: Bonus Material                    -1.185854\n",
       "Captain Kronos: Vampire Hunter                      -1.190826\n",
       "Mystery of the Maya: IMAX                           -1.194550\n",
       "The Comfort of Strangers                            -1.254990\n",
       "A Touch of Frost: Season 5                          -1.256416\n",
       "Songs from the Second Floor                         -1.268859\n",
       "The Lone Gunmen: The Complete Series                -1.284256\n",
       "Kiss Toledo Goodbye                                 -1.300000\n",
       "Shake                                               -1.301583\n",
       "Edie and Pen                                        -1.301583\n",
       "Genesis Climber Mospeada                            -1.321057\n",
       "The Murder Room                                     -1.321701\n",
       "Italian Stallion                                    -1.341641\n",
       "The End Times                                       -1.415820\n",
       "Quiet Days in Clichy                                -1.443376\n",
       "The Ranch                                           -1.443376\n",
       "Adventures of Captain Marvel                        -1.469937\n",
       "LeapFrog: Math Circus                               -1.475123\n",
       "The Perfect Neighbor                                -1.500000\n",
       "Untold Scandal                                      -1.500000\n",
       "Marlene Dietrich: Her Own Song                      -1.500000\n",
       "Takegami: Guardian of Darkness: War God             -1.500000\n",
       "Sesame Street: Babies                               -1.500000\n",
       "Manchild: The Complete First Season                 -1.500000\n",
       "Jane's Addiction: Three Days                        -1.500000\n",
       "Dragon Ball Z: Lord Slug                            -1.500000\n",
       "Dario Argento's The Card Player                     -1.500000\n",
       "Witness to a Kill                                   -1.500000\n",
       "Farscape: The Peacekeeper Wars: Bonus Material            NaN\n",
       "Name: Marlene Dietrich: Her Own Song, dtype: float64"
      ]
     },
     "execution_count": 386,
     "metadata": {},
     "output_type": "execute_result"
    }
   ],
   "source": [
    "get_similar_movies(32, 25)"
   ]
  },
  {
   "cell_type": "markdown",
   "id": "40f83979-d508-489c-8195-17bbfc9ec059",
   "metadata": {},
   "source": [
    "### References\n",
    "\n",
    "https://youtu.be/3ecNC-So0r4"
   ]
  },
  {
   "cell_type": "code",
   "execution_count": null,
   "id": "8a160b2a-7366-465c-9be3-25fec537571c",
   "metadata": {},
   "outputs": [],
   "source": []
  }
 ],
 "metadata": {
  "kernelspec": {
   "display_name": "Python 3",
   "language": "python",
   "name": "python3"
  },
  "language_info": {
   "codemirror_mode": {
    "name": "ipython",
    "version": 3
   },
   "file_extension": ".py",
   "mimetype": "text/x-python",
   "name": "python",
   "nbconvert_exporter": "python",
   "pygments_lexer": "ipython3",
   "version": "3.8.8"
  }
 },
 "nbformat": 4,
 "nbformat_minor": 5
}
